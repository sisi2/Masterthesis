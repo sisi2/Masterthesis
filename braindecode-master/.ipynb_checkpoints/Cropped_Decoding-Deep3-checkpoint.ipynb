{
 "cells": [
  {
   "cell_type": "code",
   "execution_count": 1,
   "metadata": {
    "nbsphinx": "hidden"
   },
   "outputs": [],
   "source": [
    "%load_ext autoreload\n",
    "%autoreload 2\n",
    "import os\n",
    "os.sys.path.insert(0, '/home/ai/Documents/braindecode-master/braindecode')"
   ]
  },
  {
   "cell_type": "markdown",
   "metadata": {},
   "source": [
    "# Cropped Decoding"
   ]
  },
  {
   "cell_type": "markdown",
   "metadata": {},
   "source": [
    "Now we will use cropped decoding. Cropped decoding means the ConvNet is trained on time windows/time crops within the trials. Most of the code is identical to the [Trialwise Decoding Tutorial](TrialWise_Decoding.html), differences are explained in the text."
   ]
  },
  {
   "cell_type": "markdown",
   "metadata": {},
   "source": [
    "## Load data"
   ]
  },
  {
   "cell_type": "code",
   "execution_count": 2,
   "metadata": {},
   "outputs": [
    {
     "name": "stdout",
     "output_type": "stream",
     "text": [
      "Trigger channel has a non-zero initial value of 1 (consider using initial_event=True to detect this event)\n",
      "Removing orphaned offset at the beginning of the file.\n",
      "179 events found\n",
      "Event IDs: [1 2 3]\n",
      "90 matching events found\n",
      "No baseline correction applied\n",
      "Not setting metadata\n",
      "Loading data for 90 events and 497 original time points ...\n",
      "0 bad epochs dropped\n"
     ]
    }
   ],
   "source": [
    "import mne\n",
    "from mne.io import concatenate_raws\n",
    "\n",
    "# 5,6,7,10,13,14 are codes for executed and imagined hands/feet\n",
    "subject_id = 1\n",
    "event_codes = [5,6,9,10,13,14]\n",
    "\n",
    "# This will download the files if you don't have them yet,\n",
    "# and then return the paths to the files.\n",
    "physionet_paths = mne.datasets.eegbci.load_data(subject_id, event_codes)\n",
    "\n",
    "# Load each of the files\n",
    "parts = [mne.io.read_raw_edf(path, preload=True,stim_channel='auto', verbose='WARNING')\n",
    "         for path in physionet_paths]\n",
    "\n",
    "# Concatenate them\n",
    "raw = concatenate_raws(parts)\n",
    "\n",
    "# Find the events in this dataset\n",
    "events = mne.find_events(raw, shortest_event=0, stim_channel='STI 014')\n",
    "\n",
    "# Use only EEG channels\n",
    "eeg_channel_inds = mne.pick_types(raw.info, meg=False, eeg=True, stim=False, eog=False,\n",
    "                   exclude='bads')\n",
    "\n",
    "# Extract trials, only using EEG channels\n",
    "epoched = mne.Epochs(raw, events, dict(hands=2, feet=3), tmin=1, tmax=4.1, proj=False, picks=eeg_channel_inds,\n",
    "                baseline=None, preload=True)"
   ]
  },
  {
   "cell_type": "markdown",
   "metadata": {},
   "source": [
    "## Convert data to Braindecode format"
   ]
  },
  {
   "cell_type": "code",
   "execution_count": 3,
   "metadata": {},
   "outputs": [
    {
     "name": "stdout",
     "output_type": "stream",
     "text": [
      "[ 1 -1  0 -1  1 -1  0 -1  1 -1  0 -1  0 -1  1 -1  1 -1  0 -1  1 -1  0 -1\n",
      "  0 -1  1 -1  0 -1  1 -1  0 -1  0 -1  1 -1  0 -1  1 -1  1 -1  0 -1  0 -1\n",
      "  1 -1  1 -1  0 -1  0 -1  1 -1  1 -1  0 -1  1 -1  0 -1  1 -1  1 -1  0 -1\n",
      "  0 -1  1 -1  0 -1  1 -1  0 -1  1 -1  1 -1  0 -1  0 -1  0 -1  1 -1  1 -1\n",
      "  0 -1  1 -1  0 -1  0 -1  1 -1  1 -1  0 -1  0 -1  1 -1  1 -1  0 -1  1 -1\n",
      "  0 -1  1 -1  0 -1  1 -1  1 -1  0 -1  1 -1  0 -1  0 -1  1 -1  0 -1  1 -1\n",
      "  1 -1  0 -1  1 -1  1 -1  0 -1  1 -1  0 -1  0 -1  1 -1  0 -1  1 -1  0 -1\n",
      "  1 -1  1 -1  0 -1  1 -1  0 -1  1]\n",
      "[1 0 1 0 1 0 0 1 1 0 1 0 0 1 0 1 0 0 1 0 1 1 0 0 1 1 0 0 1 1 0 1 0 1 1 0 0\n",
      " 1 0 1 0 1 1 0 0 0 1 1 0 1 0 0 1 1 0 0 1 1 0 1 0 1 0 1 1 0 1 0 0 1 0 1 1 0\n",
      " 1 1 0 1 0 0 1 0 1 0 1 1 0 1 0 1]\n",
      "[[[ -29.  -14.  -30. ...   77.  102.   75.]\n",
      "  [ -65.  -54.  -67. ...   60.   71.   42.]\n",
      "  [-103.  -91.  -98. ...   50.   55.   32.]\n",
      "  ...\n",
      "  [-123.  -95.  -97. ...   18.   17.   22.]\n",
      "  [-105.  -83.  -84. ...   -3.    0.    5.]\n",
      "  [ -76.  -49.  -59. ...    4.    5.   16.]]\n",
      "\n",
      " [[  67.   68.   26. ...  -25.   -7.  -26.]\n",
      "  [  71.   60.   11. ...  -15.  -10.  -26.]\n",
      "  [  51.   29.  -17. ...  -17.  -15.  -23.]\n",
      "  ...\n",
      "  [ 127.   93.   19. ...  -36.  -33.  -36.]\n",
      "  [ 135.  110.   42. ...  -80.  -78.  -76.]\n",
      "  [ 165.  106.    6. ...   -2.   -6.  -17.]]\n",
      "\n",
      " [[  81.   83.   52. ...   33.   29.   62.]\n",
      "  [  98.   92.   58. ...   18.   24.   44.]\n",
      "  [ 102.   98.   76. ...   23.   21.   35.]\n",
      "  ...\n",
      "  [  21.    8.   -5. ...    7.   -8.  -23.]\n",
      "  [  18.    7.   -1. ...   -1.  -18.  -27.]\n",
      "  [  51.   36.   -3. ...  -31.  -38.  -41.]]\n",
      "\n",
      " ...\n",
      "\n",
      " [[ -30.  -18.  -29. ...  -13.    1.   18.]\n",
      "  [ -24.  -13.  -16. ...   48.   64.   73.]\n",
      "  [ -46.  -35.  -39. ...   68.   72.   82.]\n",
      "  ...\n",
      "  [  36.   62.   70. ...  -51.  -78.  -63.]\n",
      "  [  49.   62.   63. ...  -83. -116.  -86.]\n",
      "  [  49.   68.   84. ...  -49.  -81.  -70.]]\n",
      "\n",
      " [[ -14.  -25.  -31. ...   18.   36.   22.]\n",
      "  [ -17.  -28.  -30. ...   26.   34.   20.]\n",
      "  [ -22.  -31.  -39. ...   25.   22.   11.]\n",
      "  ...\n",
      "  [  -6.    8.   30. ...  -17.  -26.  -26.]\n",
      "  [  35.   59.   81. ...  -44.  -52.  -44.]\n",
      "  [ -10.   17.   50. ...   -5.  -10.   -7.]]\n",
      "\n",
      " [[-168. -163. -156. ...  116.  117.    0.]\n",
      "  [-157. -147. -129. ...  135.  134.    0.]\n",
      "  [-150. -134. -118. ...  142.  129.    0.]\n",
      "  ...\n",
      "  [  15.   47.   68. ...   81.   97.    0.]\n",
      "  [  82.  108.  116. ...   53.   63.    0.]\n",
      "  [ -27.   11.   31. ...   44.   46.    0.]]]\n",
      "[1 0 1 0 1 0 0 1 1 0 1 0 0 1 0 1 0 0 1 0 1 1 0 0 1 1 0 0 1 1 0 1 0 1 1 0 0\n",
      " 1 0 1 0 1 1 0 0 0 1 1 0 1 0 0 1 1 0 0 1 1 0 1 0 1 0 1 1 0 1 0 0 1 0 1 1 0\n",
      " 1 1 0 1 0 0 1 0 1 0 1 1 0 1 0 1]\n"
     ]
    }
   ],
   "source": [
    "import numpy as np\n",
    "from braindecode.datautil.signal_target import SignalAndTarget\n",
    "# Convert data from volt to millivolt\n",
    "# Pytorch expects float32 for input and int64 for labels.\n",
    "#print(events[:,1])\n",
    "print(events[:,2]-2)\n",
    "print(epoched.events[:,2]-2)\n",
    "X = (epoched.get_data() * 1e6).astype(np.float32)\n",
    "print(X)\n",
    "\n",
    "y = (epoched.events[:,2] - 2).astype(np.int64) #2,3 -> 0,1\n",
    "print(y)\n",
    "\n",
    "train_set = SignalAndTarget(X[:60], y=y[:60])\n",
    "test_set = SignalAndTarget(X[60:], y=y[60:])"
   ]
  },
  {
   "cell_type": "markdown",
   "metadata": {},
   "source": [
    "## Create the model"
   ]
  },
  {
   "cell_type": "markdown",
   "metadata": {},
   "source": [
    "For cropped decoding, we now transform the model into a model that outputs a dense time series of predictions.\n",
    "For this, we manually set the length of the final convolution layer to some length that makes the receptive field of the ConvNet smaller than the number of samples in a trial. Also, we use `to_dense_prediction_model`, which removes the strides in the ConvNet and instead uses dilated convolutions to get a dense output (see [Multi-Scale Context Aggregation by Dilated Convolutions](https://arxiv.org/abs/1511.07122) and our paper [Deep learning with convolutional neural networks for EEG decoding and visualization](https://arxiv.org/abs/1703.05051) Section 2.5.4 for some background on this)."
   ]
  },
  {
   "cell_type": "code",
   "execution_count": 4,
   "metadata": {},
   "outputs": [
    {
     "name": "stdout",
     "output_type": "stream",
     "text": [
      "64\n",
      "Sequential(\n",
      "  (dimshuffle): Expression(expression=_transpose_time_to_spat)\n",
      "  (conv_time): Conv2d(1, 25, kernel_size=(10, 1), stride=(1, 1))\n",
      "  (conv_spat): Conv2d(25, 25, kernel_size=(1, 64), stride=(2, 1), bias=False)\n",
      "  (bnorm): BatchNorm2d(25, eps=1e-05, momentum=0.1, affine=True, track_running_stats=True)\n",
      "  (conv_nonlin): Expression(expression=elu)\n",
      "  (pool): MaxPool2d(kernel_size=(3, 1), stride=(1, 1), padding=0, dilation=1, ceil_mode=False)\n",
      "  (pool_nonlin): Expression(expression=identity)\n",
      "  (drop_2): Dropout(p=0.5)\n",
      "  (conv_2): Conv2d(25, 50, kernel_size=(10, 1), stride=(2, 1), bias=False)\n",
      "  (bnorm_2): BatchNorm2d(50, eps=1e-05, momentum=0.1, affine=True, track_running_stats=True)\n",
      "  (nonlin_2): Expression(expression=elu)\n",
      "  (pool_2): MaxPool2d(kernel_size=(3, 1), stride=(1, 1), padding=0, dilation=1, ceil_mode=False)\n",
      "  (pool_nonlin_2): Expression(expression=identity)\n",
      "  (drop_3): Dropout(p=0.5)\n",
      "  (conv_3): Conv2d(50, 100, kernel_size=(5, 1), stride=(2, 1), bias=False)\n",
      "  (bnorm_3): BatchNorm2d(100, eps=1e-05, momentum=0.1, affine=True, track_running_stats=True)\n",
      "  (nonlin_3): Expression(expression=elu)\n",
      "  (pool_3): MaxPool2d(kernel_size=(3, 1), stride=(1, 1), padding=0, dilation=1, ceil_mode=False)\n",
      "  (pool_nonlin_3): Expression(expression=identity)\n",
      "  (drop_4): Dropout(p=0.5)\n",
      "  (conv_4): Conv2d(100, 200, kernel_size=(5, 1), stride=(2, 1), bias=False)\n",
      "  (bnorm_4): BatchNorm2d(200, eps=1e-05, momentum=0.1, affine=True, track_running_stats=True)\n",
      "  (nonlin_4): Expression(expression=elu)\n",
      "  (pool_4): MaxPool2d(kernel_size=(3, 1), stride=(1, 1), padding=0, dilation=1, ceil_mode=False)\n",
      "  (pool_nonlin_4): Expression(expression=identity)\n",
      "  (conv_classifier): Conv2d(200, 2, kernel_size=(1, 1), stride=(1, 1))\n",
      "  (softmax): LogSoftmax()\n",
      "  (squeeze): Expression(expression=_squeeze_final_output)\n",
      ")\n",
      "Sequential(\n",
      "  (dimshuffle): Expression(expression=_transpose_time_to_spat)\n",
      "  (conv_time): Conv2d(1, 25, kernel_size=(10, 1), stride=(1, 1))\n",
      "  (conv_spat): Conv2d(25, 25, kernel_size=(1, 64), stride=(1, 1), bias=False)\n",
      "  (bnorm): BatchNorm2d(25, eps=1e-05, momentum=0.1, affine=True, track_running_stats=True)\n",
      "  (conv_nonlin): Expression(expression=elu)\n",
      "  (pool): MaxPool2d(kernel_size=(3, 1), stride=(1, 1), padding=0, dilation=(2, 1), ceil_mode=False)\n",
      "  (pool_nonlin): Expression(expression=identity)\n",
      "  (drop_2): Dropout(p=0.5)\n",
      "  (conv_2): Conv2d(25, 50, kernel_size=(10, 1), stride=(1, 1), dilation=(2, 1), bias=False)\n",
      "  (bnorm_2): BatchNorm2d(50, eps=1e-05, momentum=0.1, affine=True, track_running_stats=True)\n",
      "  (nonlin_2): Expression(expression=elu)\n",
      "  (pool_2): MaxPool2d(kernel_size=(3, 1), stride=(1, 1), padding=0, dilation=(4, 1), ceil_mode=False)\n",
      "  (pool_nonlin_2): Expression(expression=identity)\n",
      "  (drop_3): Dropout(p=0.5)\n",
      "  (conv_3): Conv2d(50, 100, kernel_size=(5, 1), stride=(1, 1), dilation=(4, 1), bias=False)\n",
      "  (bnorm_3): BatchNorm2d(100, eps=1e-05, momentum=0.1, affine=True, track_running_stats=True)\n",
      "  (nonlin_3): Expression(expression=elu)\n",
      "  (pool_3): MaxPool2d(kernel_size=(3, 1), stride=(1, 1), padding=0, dilation=(8, 1), ceil_mode=False)\n",
      "  (pool_nonlin_3): Expression(expression=identity)\n",
      "  (drop_4): Dropout(p=0.5)\n",
      "  (conv_4): Conv2d(100, 200, kernel_size=(5, 1), stride=(1, 1), dilation=(8, 1), bias=False)\n",
      "  (bnorm_4): BatchNorm2d(200, eps=1e-05, momentum=0.1, affine=True, track_running_stats=True)\n",
      "  (nonlin_4): Expression(expression=elu)\n",
      "  (pool_4): MaxPool2d(kernel_size=(3, 1), stride=(1, 1), padding=0, dilation=(16, 1), ceil_mode=False)\n",
      "  (pool_nonlin_4): Expression(expression=identity)\n",
      "  (conv_classifier): Conv2d(200, 2, kernel_size=(1, 1), stride=(1, 1), dilation=(16, 1))\n",
      "  (softmax): LogSoftmax()\n",
      "  (squeeze): Expression(expression=_squeeze_final_output)\n",
      ")\n"
     ]
    },
    {
     "name": "stderr",
     "output_type": "stream",
     "text": [
      "/home/dansy/Documents/braindecode-master/braindecode1/models/deep4.py:148: UserWarning: nn.init.xavier_uniform is now deprecated in favor of nn.init.xavier_uniform_.\n",
      "  init.xavier_uniform(model.conv_time.weight, gain=1)\n",
      "/home/dansy/Documents/braindecode-master/braindecode1/models/deep4.py:151: UserWarning: nn.init.constant is now deprecated in favor of nn.init.constant_.\n",
      "  init.constant(model.conv_time.bias, 0)\n",
      "/home/dansy/Documents/braindecode-master/braindecode1/models/deep4.py:153: UserWarning: nn.init.xavier_uniform is now deprecated in favor of nn.init.xavier_uniform_.\n",
      "  init.xavier_uniform(model.conv_spat.weight, gain=1)\n",
      "/home/dansy/Documents/braindecode-master/braindecode1/models/deep4.py:157: UserWarning: nn.init.constant is now deprecated in favor of nn.init.constant_.\n",
      "  init.constant(model.bnorm.weight, 1)\n",
      "/home/dansy/Documents/braindecode-master/braindecode1/models/deep4.py:158: UserWarning: nn.init.constant is now deprecated in favor of nn.init.constant_.\n",
      "  init.constant(model.bnorm.bias, 0)\n",
      "/home/dansy/Documents/braindecode-master/braindecode1/models/deep4.py:162: UserWarning: nn.init.xavier_uniform is now deprecated in favor of nn.init.xavier_uniform_.\n",
      "  init.xavier_uniform(conv_weight, gain=1)\n",
      "/home/dansy/Documents/braindecode-master/braindecode1/models/deep4.py:169: UserWarning: nn.init.constant is now deprecated in favor of nn.init.constant_.\n",
      "  init.constant(bnorm_weight, 1)\n",
      "/home/dansy/Documents/braindecode-master/braindecode1/models/deep4.py:170: UserWarning: nn.init.constant is now deprecated in favor of nn.init.constant_.\n",
      "  init.constant(bnorm_bias, 0)\n",
      "/home/dansy/Documents/braindecode-master/braindecode1/models/deep4.py:172: UserWarning: nn.init.xavier_uniform is now deprecated in favor of nn.init.xavier_uniform_.\n",
      "  init.xavier_uniform(model.conv_classifier.weight, gain=1)\n",
      "/home/dansy/Documents/braindecode-master/braindecode1/models/deep4.py:173: UserWarning: nn.init.constant is now deprecated in favor of nn.init.constant_.\n",
      "  init.constant(model.conv_classifier.bias, 0)\n"
     ]
    }
   ],
   "source": [
    "from braindecode1.models.shallow_fbcsp import ShallowFBCSPNet\n",
    "from braindecode1.models.deep4 import Deep4Net\n",
    "from torch import nn\n",
    "from braindecode.torch_ext.util import set_random_seeds\n",
    "from braindecode.models.util import to_dense_prediction_model\n",
    "\n",
    "# Set if you want to use GPU\n",
    "# You can also use torch.cuda.is_available() to determine if cuda is available on your machine.\n",
    "cuda = False\n",
    "set_random_seeds(seed=20170629, cuda=cuda)\n",
    "\n",
    "# This will determine how many crops are processed in parallel\n",
    "input_time_length = 450\n",
    "\n",
    "n_classes = 2\n",
    "print(train_set.X.shape[1])\n",
    "in_chans = train_set.X.shape[1]\n",
    "# final_conv_length determines the size of the receptive field of the ConvNet\n",
    "model =  Deep4Net(in_chans=in_chans, n_classes=n_classes, input_time_length=input_time_length,\n",
    "                  filter_length_3=5, filter_length_4=5, pool_time_stride=2, stride_before_pool=True,\n",
    "                        final_conv_length=1).create_network()\n",
    "print(model)\n",
    "to_dense_prediction_model(model)\n",
    "print(model)\n",
    "if cuda:\n",
    "    model.cuda()\n",
    "    \n",
    "\n",
    "from torch import optim\n",
    "\n",
    "optimizer = optim.Adam(model.parameters())"
   ]
  },
  {
   "cell_type": "markdown",
   "metadata": {},
   "source": [
    "## Create cropped iterator"
   ]
  },
  {
   "cell_type": "markdown",
   "metadata": {},
   "source": [
    "For extracting crops from the trials, Braindecode provides the  `CropsFromTrialsIterator?` class. This class needs to know the input time length of the inputs you put into the network and the number of predictions that the ConvNet will output per input. You can determine the number of predictions by passing dummy data through the ConvNet: "
   ]
  },
  {
   "cell_type": "code",
   "execution_count": 5,
   "metadata": {},
   "outputs": [
    {
     "name": "stdout",
     "output_type": "stream",
     "text": [
      "torch.Size([2, 64, 450, 1])\n",
      "315 predictions per input/trial\n"
     ]
    },
    {
     "name": "stderr",
     "output_type": "stream",
     "text": [
      "/home/dansy/anaconda3/lib/python3.6/site-packages/torch/nn/modules/container.py:91: UserWarning: Implicit dimension choice for log_softmax has been deprecated. Change the call to include dim=X as an argument.\n",
      "  input = module(input)\n"
     ]
    }
   ],
   "source": [
    "from braindecode.torch_ext.util import np_to_var\n",
    "# determine output size\n",
    "test_input = np_to_var(np.ones((2, in_chans, input_time_length, 1), dtype=np.float32))\n",
    "if cuda:\n",
    "    test_input = test_input.cuda()\n",
    "print(test_input.shape)\n",
    "out = model(test_input)\n",
    "\n",
    "n_preds_per_input = out.cpu().data.numpy().shape[2]\n",
    "print(\"{:d} predictions per input/trial\".format(n_preds_per_input))"
   ]
  },
  {
   "cell_type": "code",
   "execution_count": 6,
   "metadata": {},
   "outputs": [],
   "source": [
    "from braindecode.datautil.iterators import CropsFromTrialsIterator\n",
    "iterator = CropsFromTrialsIterator(batch_size=64,input_time_length=input_time_length,\n",
    "                                  n_preds_per_input=n_preds_per_input)"
   ]
  },
  {
   "cell_type": "markdown",
   "metadata": {},
   "source": [
    "The iterator has the method `get_batches`, which can be used to get randomly shuffled training batches with `shuffle=True` or ordered batches (i.e. first from trial 1, then from trial 2, etc.) with `shuffle=False`. Additionally, Braindecode provides the `compute_preds_per_trial_for_set` method, which accepts predictions from the ordered batches and returns predictions per trial. It removes any overlapping predictions, which occur if the number of predictions per input is not a divisor of the number of samples in a trial.\n",
    "\n",
    "\n",
    "<div class=\"alert alert-info\">\n",
    "\n",
    "These methods can also work with trials of different lengths! For different-length trials, set `X` to be a list of 2d-arrays instead of a 3d-array.\n",
    "\n",
    "</div>"
   ]
  },
  {
   "cell_type": "markdown",
   "metadata": {},
   "source": [
    "## Training loop"
   ]
  },
  {
   "cell_type": "markdown",
   "metadata": {},
   "source": [
    "The code below uses both the cropped iterator and the `compute_preds_per_trial_for_set` function to train and evaluate the network."
   ]
  },
  {
   "cell_type": "code",
   "execution_count": 7,
   "metadata": {},
   "outputs": [
    {
     "name": "stderr",
     "output_type": "stream",
     "text": [
      "/home/dansy/anaconda3/lib/python3.6/site-packages/torch/nn/modules/container.py:91: UserWarning: Implicit dimension choice for log_softmax has been deprecated. Change the call to include dim=X as an argument.\n",
      "  input = module(input)\n"
     ]
    },
    {
     "name": "stdout",
     "output_type": "stream",
     "text": [
      "Epoch 0\n",
      "Train  Loss: 2.07136\n",
      "Train  Accuracy: 50.0%\n",
      "Test   Loss: 2.55408\n",
      "Test   Accuracy: 46.7%\n",
      "Epoch 1\n",
      "Train  Loss: 1.11351\n",
      "Train  Accuracy: 51.7%\n",
      "Test   Loss: 1.08878\n",
      "Test   Accuracy: 56.7%\n",
      "Epoch 2\n",
      "Train  Loss: 0.69367\n",
      "Train  Accuracy: 70.0%\n",
      "Test   Loss: 0.87413\n",
      "Test   Accuracy: 50.0%\n",
      "Epoch 3\n",
      "Train  Loss: 0.59891\n",
      "Train  Accuracy: 80.0%\n",
      "Test   Loss: 0.83592\n",
      "Test   Accuracy: 63.3%\n",
      "Epoch 4\n",
      "Train  Loss: 0.64396\n",
      "Train  Accuracy: 80.0%\n",
      "Test   Loss: 0.81196\n",
      "Test   Accuracy: 66.7%\n",
      "Epoch 5\n",
      "Train  Loss: 0.64790\n",
      "Train  Accuracy: 65.0%\n",
      "Test   Loss: 0.80765\n",
      "Test   Accuracy: 50.0%\n",
      "Epoch 6\n",
      "Train  Loss: 0.70826\n",
      "Train  Accuracy: 53.3%\n",
      "Test   Loss: 0.85288\n",
      "Test   Accuracy: 53.3%\n",
      "Epoch 7\n",
      "Train  Loss: 0.69142\n",
      "Train  Accuracy: 60.0%\n",
      "Test   Loss: 0.82727\n",
      "Test   Accuracy: 53.3%\n",
      "Epoch 8\n",
      "Train  Loss: 0.64302\n",
      "Train  Accuracy: 63.3%\n",
      "Test   Loss: 0.85412\n",
      "Test   Accuracy: 53.3%\n",
      "Epoch 9\n",
      "Train  Loss: 0.59739\n",
      "Train  Accuracy: 70.0%\n",
      "Test   Loss: 0.83714\n",
      "Test   Accuracy: 53.3%\n",
      "Epoch 10\n",
      "Train  Loss: 0.60467\n",
      "Train  Accuracy: 65.0%\n",
      "Test   Loss: 0.86063\n",
      "Test   Accuracy: 53.3%\n",
      "Epoch 11\n",
      "Train  Loss: 0.64707\n",
      "Train  Accuracy: 61.7%\n",
      "Test   Loss: 0.93669\n",
      "Test   Accuracy: 53.3%\n",
      "Epoch 12\n",
      "Train  Loss: 0.64674\n",
      "Train  Accuracy: 71.7%\n",
      "Test   Loss: 0.93671\n",
      "Test   Accuracy: 56.7%\n",
      "Epoch 13\n",
      "Train  Loss: 0.70093\n",
      "Train  Accuracy: 61.7%\n",
      "Test   Loss: 1.08402\n",
      "Test   Accuracy: 53.3%\n",
      "Epoch 14\n",
      "Train  Loss: 0.70554\n",
      "Train  Accuracy: 75.0%\n",
      "Test   Loss: 1.01999\n",
      "Test   Accuracy: 56.7%\n",
      "Epoch 15\n",
      "Train  Loss: 0.64405\n",
      "Train  Accuracy: 61.7%\n",
      "Test   Loss: 1.05593\n",
      "Test   Accuracy: 56.7%\n",
      "Epoch 16\n",
      "Train  Loss: 0.59165\n",
      "Train  Accuracy: 75.0%\n",
      "Test   Loss: 1.04259\n",
      "Test   Accuracy: 56.7%\n",
      "Epoch 17\n",
      "Train  Loss: 0.61477\n",
      "Train  Accuracy: 81.7%\n",
      "Test   Loss: 1.07448\n",
      "Test   Accuracy: 63.3%\n",
      "Epoch 18\n",
      "Train  Loss: 0.63577\n",
      "Train  Accuracy: 76.7%\n",
      "Test   Loss: 1.19816\n",
      "Test   Accuracy: 60.0%\n",
      "Epoch 19\n",
      "Train  Loss: 0.66241\n",
      "Train  Accuracy: 80.0%\n",
      "Test   Loss: 1.07073\n",
      "Test   Accuracy: 63.3%\n",
      "Train Average accuracy: 67.7%\n",
      "Test Average accuracy: 56.0%\n"
     ]
    }
   ],
   "source": [
    "from braindecode.torch_ext.util import np_to_var, var_to_np\n",
    "import torch.nn.functional as F\n",
    "from numpy.random import RandomState\n",
    "import torch as th\n",
    "from braindecode.experiments.monitors import compute_preds_per_trial_for_set\n",
    "rng = RandomState((2017,6,30))\n",
    "accuracy_nb = {\"Train\": 0, \"Test\": 0}\n",
    "accuracy_sum = {\"Train\": 0, \"Test\": 0}\n",
    "i_trial_stops = [trial.shape[1] for trial in train_set.X]\n",
    "\n",
    "for i_epoch in range(20):\n",
    "    # Set model to training mode\n",
    "    model.train()\n",
    "    for batch_X, batch_y in iterator.get_batches(train_set, shuffle=False):\n",
    "        net_in = np_to_var(batch_X)\n",
    "        if cuda:\n",
    "            net_in = net_in.cuda()\n",
    "        net_target = np_to_var(batch_y)\n",
    "        if cuda:\n",
    "            net_target = net_target.cuda()\n",
    "        # Remove gradients of last backward pass from all parameters \n",
    "        optimizer.zero_grad()\n",
    "        outputs = model(net_in)\n",
    "        # Mean predictions across trial\n",
    "        # Note that this will give identical gradients to computing\n",
    "        # a per-prediction loss (at least for the combination of log softmax activation \n",
    "        # and negative log likelihood loss which we are using here)\n",
    "        outputs = th.mean(outputs, dim=2, keepdim=False)\n",
    "        loss = F.nll_loss(outputs, net_target)\n",
    "        loss.backward()\n",
    "        optimizer.step()\n",
    "    \n",
    "    # Print some statistics each epoch\n",
    "    model.eval()\n",
    "    print(\"Epoch {:d}\".format(i_epoch))\n",
    "    for setname, dataset in (('Train', train_set),('Test', test_set)):\n",
    "        # Collect all predictions and losses\n",
    "        all_preds = []\n",
    "        all_losses = []\n",
    "        batch_sizes = []\n",
    "        for batch_X, batch_y in iterator.get_batches(dataset, shuffle=False):\n",
    "            net_in = np_to_var(batch_X)\n",
    "            if cuda:\n",
    "                net_in = net_in.cuda()\n",
    "            net_target = np_to_var(batch_y)\n",
    "            if cuda:\n",
    "                net_target = net_target.cuda()\n",
    "            outputs = model(net_in)\n",
    "            all_preds.append(var_to_np(outputs))\n",
    "            outputs = th.mean(outputs, dim=2, keepdim=False)\n",
    "            loss = F.nll_loss(outputs, net_target)\n",
    "            loss = float(var_to_np(loss))\n",
    "            all_losses.append(loss)\n",
    "            batch_sizes.append(len(batch_X))\n",
    "        # Compute mean per-input loss \n",
    "        loss = np.mean(np.array(all_losses) * np.array(batch_sizes) /\n",
    "                       np.mean(batch_sizes))\n",
    "        print(\"{:6s} Loss: {:.5f}\".format(setname, loss))\n",
    "        # Assign the predictions to the trials\n",
    "        preds_per_trial = compute_preds_per_trial_for_set(all_preds,\n",
    "                                                          input_time_length,\n",
    "                                                          dataset)\n",
    "        # preds per trial are now trials x classes x timesteps/predictions\n",
    "        # Now mean across timesteps for each trial to get per-trial predictions\n",
    "        meaned_preds_per_trial = np.array([np.mean(p, axis=1) for p in preds_per_trial])\n",
    "        predicted_labels = np.argmax(meaned_preds_per_trial, axis=1)\n",
    "        accuracy = np.mean(predicted_labels == dataset.y)\n",
    "        print(\"{:6s} Accuracy: {:.1f}%\".format(\n",
    "            setname, accuracy * 100))\n",
    "        accuracy_nb[setname] += 1\n",
    "        accuracy_sum[setname] += accuracy\n",
    "\n",
    "for setname in (\"Train\", \"Test\"):\n",
    "    print(\"{} Average accuracy: {:.1f}%\".format(setname, accuracy_sum[setname]*100/accuracy_nb[setname]))"
   ]
  },
  {
   "cell_type": "markdown",
   "metadata": {},
   "source": [
    "Eventually, we arrive at 76.7% accuracy, so 23 from 30 trials are correctly predicted, 4 more than for the trialwise decoding method."
   ]
  },
  {
   "cell_type": "markdown",
   "metadata": {},
   "source": [
    "## Dataset References\n"
   ]
  },
  {
   "cell_type": "markdown",
   "metadata": {},
   "source": [
    " This dataset was created and contributed to PhysioNet by the developers of the [BCI2000](http://www.schalklab.org/research/bci2000) instrumentation system, which they used in making these recordings. The system is described in:\n",
    " \n",
    "     Schalk, G., McFarland, D.J., Hinterberger, T., Birbaumer, N., Wolpaw, J.R. (2004) BCI2000: A General-Purpose Brain-Computer Interface (BCI) System. IEEE TBME 51(6):1034-1043.\n",
    "\n",
    "[PhysioBank](https://physionet.org/physiobank/) is a large and growing archive of well-characterized digital recordings of physiologic signals and related data for use by the biomedical research community and further described in:\n",
    "\n",
    "    Goldberger AL, Amaral LAN, Glass L, Hausdorff JM, Ivanov PCh, Mark RG, Mietus JE, Moody GB, Peng C-K, Stanley HE. (2000) PhysioBank, PhysioToolkit, and PhysioNet: Components of a New Research Resource for Complex Physiologic Signals. Circulation 101(23):e215-e220."
   ]
  }
 ],
 "metadata": {
  "git": {
   "keep_outputs": true
  },
  "kernelspec": {
   "display_name": "Python 3",
   "language": "python",
   "name": "python3"
  },
  "language_info": {
   "codemirror_mode": {
    "name": "ipython",
    "version": 3
   },
   "file_extension": ".py",
   "mimetype": "text/x-python",
   "name": "python",
   "nbconvert_exporter": "python",
   "pygments_lexer": "ipython3",
   "version": "3.6.5"
  }
 },
 "nbformat": 4,
 "nbformat_minor": 2
}
