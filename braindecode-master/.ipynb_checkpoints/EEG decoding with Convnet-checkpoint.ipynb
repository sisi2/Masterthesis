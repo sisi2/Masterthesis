{
 "cells": [
  {
   "cell_type": "code",
   "execution_count": 14,
   "metadata": {
    "collapsed": false
   },
   "outputs": [
    {
     "name": "stdout",
     "output_type": "stream",
     "text": [
      "['C:\\\\Users\\\\Dansy\\\\Documents\\\\MasterThesis\\\\SampleBCI_2a\\\\A01T.gdf', 'C:\\\\Users\\\\Dansy\\\\Documents\\\\MasterThesis\\\\SampleBCI_2a\\\\A01E.gdf']\n",
      "Overlapping events detected. Use find_edf_events for the original events.\n",
      "Interpolating stim channel. Events may jitter.\n",
      "Channel names are not unique, found duplicates for: {'EEG'}. Applying running numbers for duplicates.\n"
     ]
    },
    {
     "name": "stderr",
     "output_type": "stream",
     "text": [
      "c:\\users\\dansy\\appdata\\local\\programs\\python\\python36\\lib\\site-packages\\mne\\io\\edf\\edf.py:1035: DeprecationWarning: The binary mode of fromstring is deprecated, as it behaves surprisingly on unicode inputs. Use frombuffer instead\n",
      "  etmode = np.fromstring(etmode, np.uint8).tolist()[0]\n",
      "<ipython-input-14-60697501dedc>:17: RuntimeWarning: Overlapping events detected. Use find_edf_events for the original events.\n",
      "  for path in physionet_paths]\n",
      "<ipython-input-14-60697501dedc>:17: RuntimeWarning: Interpolating stim channel. Events may jitter.\n",
      "  for path in physionet_paths]\n",
      "<ipython-input-14-60697501dedc>:17: RuntimeWarning: Channel names are not unique, found duplicates for: {'EEG'}. Applying running numbers for duplicates.\n",
      "  for path in physionet_paths]\n"
     ]
    },
    {
     "name": "stdout",
     "output_type": "stream",
     "text": [
      "Overlapping events detected. Use find_edf_events for the original events.\n",
      "Interpolating stim channel. Events may jitter.\n",
      "Channel names are not unique, found duplicates for: {'EEG'}. Applying running numbers for duplicates.\n"
     ]
    },
    {
     "name": "stderr",
     "output_type": "stream",
     "text": [
      "c:\\users\\dansy\\appdata\\local\\programs\\python\\python36\\lib\\site-packages\\mne\\io\\edf\\edf.py:1035: DeprecationWarning: The binary mode of fromstring is deprecated, as it behaves surprisingly on unicode inputs. Use frombuffer instead\n",
      "  etmode = np.fromstring(etmode, np.uint8).tolist()[0]\n",
      "<ipython-input-14-60697501dedc>:17: RuntimeWarning: Overlapping events detected. Use find_edf_events for the original events.\n",
      "  for path in physionet_paths]\n",
      "<ipython-input-14-60697501dedc>:17: RuntimeWarning: Interpolating stim channel. Events may jitter.\n",
      "  for path in physionet_paths]\n",
      "<ipython-input-14-60697501dedc>:17: RuntimeWarning: Channel names are not unique, found duplicates for: {'EEG'}. Applying running numbers for duplicates.\n",
      "  for path in physionet_paths]\n"
     ]
    },
    {
     "name": "stdout",
     "output_type": "stream",
     "text": [
      "[<RawEDF  |  A01T.gdf, n_channels x n_times : 26 x 672528 (2690.1 sec), ~133.5 MB, data loaded>, <RawEDF  |  A01E.gdf, n_channels x n_times : 26 x 687000 (2748.0 sec), ~136.3 MB, data loaded>]\n",
      "Removing orphaned offset at the beginning of the file.\n",
      "1169 events found\n",
      "Events id: [  768  1537  1538  1539  1540  1551  1791  2560  2561  2562  2563  2574\n",
      " 32766 33042 33043 33838]\n"
     ]
    },
    {
     "ename": "NameError",
     "evalue": "name 'none' is not defined",
     "output_type": "error",
     "traceback": [
      "\u001b[1;31m---------------------------------------------------------------------------\u001b[0m",
      "\u001b[1;31mNameError\u001b[0m                                 Traceback (most recent call last)",
      "\u001b[1;32m<ipython-input-14-60697501dedc>\u001b[0m in \u001b[0;36m<module>\u001b[1;34m()\u001b[0m\n\u001b[0;32m     30\u001b[0m \u001b[1;33m\u001b[0m\u001b[0m\n\u001b[0;32m     31\u001b[0m \u001b[1;31m# Extract trials, only using EEG channels\u001b[0m\u001b[1;33m\u001b[0m\u001b[1;33m\u001b[0m\u001b[0m\n\u001b[1;32m---> 32\u001b[1;33m epoched = mne.Epochs(raw, events, none, tmin=1, tmax=4.1, proj=False, picks=eeg_channel_inds,\n\u001b[0m\u001b[0;32m     33\u001b[0m                 baseline=None, preload=True)\n",
      "\u001b[1;31mNameError\u001b[0m: name 'none' is not defined"
     ]
    }
   ],
   "source": [
    "import mne\n",
    "from mne.io import concatenate_raws\n",
    "\n",
    "# 5,6,7,10,13,14 are codes for executed and imagined hands/feet\n",
    "subject_id = 1\n",
    "event_codes = [5,6,9,10,13,14]\n",
    "\n",
    "# This will download the files if you don't have them yet,\n",
    "# and then return the paths to the files.\n",
    "#physionet_paths = mne.datasets.eegbci.load_data(subject_id, event_codes)\n",
    "physionet_paths = ['C:\\\\Users\\\\Dansy\\\\Documents\\\\MasterThesis\\\\SampleBCI_2a\\\\A01T.gdf','C:\\\\Users\\\\Dansy\\\\Documents\\\\MasterThesis\\\\SampleBCI_2a\\\\A01E.gdf']\n",
    "print(physionet_paths)\n",
    "\n",
    "\n",
    "# Load each of the files\n",
    "parts = [mne.io.read_raw_edf(path, preload=True,stim_channel='auto', verbose='WARNING')\n",
    "         for path in physionet_paths]\n",
    "\n",
    "print(parts)\n",
    "\n",
    "# Concatenate them\n",
    "raw = concatenate_raws(parts)\n",
    "\n",
    "# Find the events in this dataset\n",
    "events = mne.find_events(raw, shortest_event=0, stim_channel='STI 014')\n",
    "\n",
    "# Use only EEG channels\n",
    "eeg_channel_inds = mne.pick_types(raw.info, meg=False, eeg=True, stim=False, eog=False,\n",
    "                   exclude='bads')\n",
    "\n",
    "# Extract trials, only using EEG channels\n",
    "epoched = mne.Epochs(raw, events, dict(left=1, right=2, feet=3,toungue=4), tmin=1, tmax=4.1, proj=False, picks=eeg_channel_inds,\n",
    "                baseline=None, preload=True)"
   ]
  },
  {
   "cell_type": "code",
   "execution_count": null,
   "metadata": {
    "collapsed": true
   },
   "outputs": [],
   "source": []
  },
  {
   "cell_type": "code",
   "execution_count": null,
   "metadata": {
    "collapsed": true
   },
   "outputs": [],
   "source": []
  }
 ],
 "metadata": {
  "kernelspec": {
   "display_name": "Python 3",
   "language": "python",
   "name": "python3"
  },
  "language_info": {
   "codemirror_mode": {
    "name": "ipython",
    "version": 3
   },
   "file_extension": ".py",
   "mimetype": "text/x-python",
   "name": "python",
   "nbconvert_exporter": "python",
   "pygments_lexer": "ipython3",
   "version": "3.6.3"
  }
 },
 "nbformat": 4,
 "nbformat_minor": 2
}
