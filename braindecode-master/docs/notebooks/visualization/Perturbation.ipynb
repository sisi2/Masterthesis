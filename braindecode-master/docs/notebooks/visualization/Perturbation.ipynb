{
 "cells": [
  {
   "cell_type": "code",
   "execution_count": 1,
   "metadata": {
    "collapsed": true,
    "nbsphinx": "hidden"
   },
   "outputs": [],
   "source": [
    "%load_ext autoreload\n",
    "%autoreload 2\n",
    "import os\n",
    "os.sys.path.insert(0, '/home/schirrmr/braindecode/code/braindecode/')"
   ]
  },
  {
   "cell_type": "markdown",
   "metadata": {},
   "source": [
    "# Amplitude Perturbation Visualization"
   ]
  },
  {
   "cell_type": "markdown",
   "metadata": {},
   "source": [
    "In this tutorial, we show how to use perturbations of the input amplitudes to learn something about the trained convolutional networks. For more background, see [Deep learning with convolutional neural networks for EEG decoding and visualization](https://arxiv.org/abs/1703.05051), Section A.5.2.\n",
    "\n",
    "First we will do some cross-subject decoding, again using the [Physiobank EEG Motor Movement/Imagery Dataset](https://www.physionet.org/physiobank/database/eegmmidb/), this time to decode imagined left hand vs. imagined right hand movement.\n",
    "\n",
    "\n",
    "<div class=\"alert alert-warning\">\n",
    "\n",
    "This tutorial might be very slow if you are not using a GPU.\n",
    "\n",
    "</div>"
   ]
  },
  {
   "cell_type": "markdown",
   "metadata": {},
   "source": [
    "## Load data"
   ]
  },
  {
   "cell_type": "code",
   "execution_count": 2,
   "metadata": {
    "collapsed": true
   },
   "outputs": [],
   "source": [
    "%%capture\n",
    "import mne\n",
    "import numpy as np\n",
    "from mne.io import concatenate_raws\n",
    "from braindecode.datautil.signal_target import SignalAndTarget\n",
    "\n",
    "# First 50 subjects as train\n",
    "physionet_paths = [ mne.datasets.eegbci.load_data(sub_id,[4,8,12,]) for sub_id in range(1,51)]\n",
    "physionet_paths = np.concatenate(physionet_paths)\n",
    "parts = [mne.io.read_raw_edf(path, preload=True,stim_channel='auto')\n",
    "         for path in physionet_paths]\n",
    "\n",
    "raw = concatenate_raws(parts)\n",
    "\n",
    "picks = mne.pick_types(raw.info, meg=False, eeg=True, stim=False, eog=False,\n",
    "                   exclude='bads')\n",
    "\n",
    "events = mne.find_events(raw, shortest_event=0, stim_channel='STI 014')\n",
    "\n",
    "# Read epochs (train will be done only between 1 and 2s)\n",
    "# Testing will be done with a running classifier\n",
    "epoched = mne.Epochs(raw, events, dict(hands=2, feet=3), tmin=1, tmax=4.1, proj=False, picks=picks,\n",
    "                baseline=None, preload=True)\n",
    "\n",
    "# Next 5 subjects as test\n",
    "physionet_paths_test = [mne.datasets.eegbci.load_data(sub_id,[4,8,12,]) for sub_id in range(51,56)]\n",
    "physionet_paths_test = np.concatenate(physionet_paths_test)\n",
    "parts_test = [mne.io.read_raw_edf(path, preload=True,stim_channel='auto')\n",
    "         for path in physionet_paths_test]\n",
    "raw_test = concatenate_raws(parts_test)\n",
    "\n",
    "picks_test = mne.pick_types(raw_test.info, meg=False, eeg=True, stim=False, eog=False,\n",
    "                   exclude='bads')\n",
    "\n",
    "events_test = mne.find_events(raw_test, shortest_event=0, stim_channel='STI 014')\n",
    "\n",
    "# Read epochs (train will be done only between 1 and 2s)\n",
    "# Testing will be done with a running classifier\n",
    "epoched_test = mne.Epochs(raw_test, events_test, dict(hands=2, feet=3), tmin=1, tmax=4.1, proj=False, picks=picks_test,\n",
    "                baseline=None, preload=True)\n",
    "\n",
    "train_X = (epoched.get_data() * 1e6).astype(np.float32)\n",
    "train_y = (epoched.events[:,2] - 2).astype(np.int64) #2,3 -> 0,1\n",
    "test_X = (epoched_test.get_data() * 1e6).astype(np.float32)\n",
    "test_y = (epoched_test.events[:,2] - 2).astype(np.int64) #2,3 -> 0,1\n",
    "train_set = SignalAndTarget(train_X, y=train_y)\n",
    "test_set = SignalAndTarget(test_X, y=test_y)"
   ]
  },
  {
   "cell_type": "markdown",
   "metadata": {},
   "source": [
    "## Create the model, optimizer, iterator"
   ]
  },
  {
   "cell_type": "markdown",
   "metadata": {},
   "source": [
    "We use the deep ConvNet from [Deep learning with convolutional neural networks for EEG decoding and visualization](https://arxiv.org/abs/1703.05051) (Section 2.4.2).\n"
   ]
  },
  {
   "cell_type": "code",
   "execution_count": 3,
   "metadata": {},
   "outputs": [
    {
     "name": "stdout",
     "output_type": "stream",
     "text": [
      "315 predictions per input/trial\n"
     ]
    }
   ],
   "source": [
    "from braindecode.models.deep4 import Deep4Net\n",
    "from torch import nn\n",
    "from braindecode.torch_ext.util import set_random_seeds\n",
    "from braindecode.models.util import to_dense_prediction_model\n",
    "\n",
    "# Set if you want to use GPU\n",
    "# You can also use torch.cuda.is_available() to determine if cuda is available on your machine.\n",
    "cuda = True\n",
    "set_random_seeds(seed=20170629, cuda=cuda)\n",
    "\n",
    "# This will determine how many crops are processed in parallel\n",
    "input_time_length = 450\n",
    "# final_conv_length determines the size of the receptive field of the ConvNet\n",
    "model = Deep4Net(in_chans=64, n_classes=2, input_time_length=input_time_length,\n",
    "                 filter_length_3=5, filter_length_4=5,\n",
    "                 pool_time_stride=2,\n",
    "                 stride_before_pool=True,\n",
    "                        final_conv_length=1).create_network()\n",
    "to_dense_prediction_model(model)\n",
    "\n",
    "if cuda:\n",
    "    model.cuda()\n",
    "\n",
    "from torch import optim\n",
    "\n",
    "optimizer = optim.Adam(model.parameters())\n",
    "\n",
    "from braindecode.torch_ext.util import np_to_var\n",
    "# determine output size\n",
    "test_input = np_to_var(np.ones((2, 64, input_time_length, 1), dtype=np.float32))\n",
    "if cuda:\n",
    "    test_input = test_input.cuda()\n",
    "out = model(test_input)\n",
    "n_preds_per_input = out.cpu().data.numpy().shape[2]\n",
    "print(\"{:d} predictions per input/trial\".format(n_preds_per_input))\n",
    "\n",
    "from braindecode.datautil.iterators import CropsFromTrialsIterator\n",
    "iterator = CropsFromTrialsIterator(batch_size=32,input_time_length=input_time_length,\n",
    "                                  n_preds_per_input=n_preds_per_input)"
   ]
  },
  {
   "cell_type": "markdown",
   "metadata": {},
   "source": [
    "## Training loop"
   ]
  },
  {
   "cell_type": "code",
   "execution_count": 4,
   "metadata": {
    "scrolled": false
   },
   "outputs": [
    {
     "name": "stdout",
     "output_type": "stream",
     "text": [
      "Epoch 0\n",
      "Train....\n",
      "Train  Loss: 0.71045\n",
      "Train  Accuracy: 52.8%\n",
      "Test   Loss: 0.71548\n",
      "Test   Accuracy: 50.2%\n",
      "Epoch 1\n",
      "Train....\n",
      "Train  Loss: 0.66929\n",
      "Train  Accuracy: 61.2%\n",
      "Test   Loss: 0.64641\n",
      "Test   Accuracy: 62.0%\n",
      "Epoch 2\n",
      "Train....\n",
      "Train  Loss: 0.64144\n",
      "Train  Accuracy: 68.9%\n",
      "Test   Loss: 0.59064\n",
      "Test   Accuracy: 78.4%\n",
      "Epoch 3\n",
      "Train....\n",
      "Train  Loss: 0.63864\n",
      "Train  Accuracy: 68.2%\n",
      "Test   Loss: 0.58749\n",
      "Test   Accuracy: 83.6%\n",
      "Epoch 4\n",
      "Train....\n",
      "Train  Loss: 0.63442\n",
      "Train  Accuracy: 70.4%\n",
      "Test   Loss: 0.58189\n",
      "Test   Accuracy: 84.0%\n",
      "Epoch 5\n",
      "Train....\n",
      "Train  Loss: 0.63014\n",
      "Train  Accuracy: 70.5%\n",
      "Test   Loss: 0.55511\n",
      "Test   Accuracy: 87.3%\n",
      "Epoch 6\n",
      "Train....\n",
      "Train  Loss: 0.62961\n",
      "Train  Accuracy: 70.1%\n",
      "Test   Loss: 0.54888\n",
      "Test   Accuracy: 88.3%\n",
      "Epoch 7\n",
      "Train....\n",
      "Train  Loss: 0.62674\n",
      "Train  Accuracy: 70.2%\n",
      "Test   Loss: 0.53488\n",
      "Test   Accuracy: 88.3%\n",
      "Epoch 8\n",
      "Train....\n",
      "Train  Loss: 0.64222\n",
      "Train  Accuracy: 66.5%\n",
      "Test   Loss: 0.54465\n",
      "Test   Accuracy: 82.2%\n",
      "Epoch 9\n",
      "Train....\n",
      "Train  Loss: 0.64440\n",
      "Train  Accuracy: 66.9%\n",
      "Test   Loss: 0.54998\n",
      "Test   Accuracy: 79.3%\n",
      "Epoch 10\n",
      "Train....\n",
      "Train  Loss: 0.64741\n",
      "Train  Accuracy: 67.4%\n",
      "Test   Loss: 0.54962\n",
      "Test   Accuracy: 78.9%\n",
      "Epoch 11\n",
      "Train....\n",
      "Train  Loss: 0.64258\n",
      "Train  Accuracy: 68.6%\n",
      "Test   Loss: 0.53498\n",
      "Test   Accuracy: 81.7%\n",
      "Epoch 12\n",
      "Train....\n",
      "Train  Loss: 0.64567\n",
      "Train  Accuracy: 68.1%\n",
      "Test   Loss: 0.54567\n",
      "Test   Accuracy: 79.8%\n",
      "Epoch 13\n",
      "Train....\n",
      "Train  Loss: 0.64973\n",
      "Train  Accuracy: 67.9%\n",
      "Test   Loss: 0.54162\n",
      "Test   Accuracy: 79.3%\n",
      "Epoch 14\n",
      "Train....\n",
      "Train  Loss: 0.65352\n",
      "Train  Accuracy: 67.4%\n",
      "Test   Loss: 0.56966\n",
      "Test   Accuracy: 76.5%\n",
      "Epoch 15\n",
      "Train....\n",
      "Train  Loss: 0.63522\n",
      "Train  Accuracy: 70.1%\n",
      "Test   Loss: 0.55433\n",
      "Test   Accuracy: 77.0%\n",
      "Epoch 16\n",
      "Train....\n",
      "Train  Loss: 0.63396\n",
      "Train  Accuracy: 70.5%\n",
      "Test   Loss: 0.55300\n",
      "Test   Accuracy: 79.3%\n",
      "Epoch 17\n",
      "Train....\n",
      "Train  Loss: 0.62454\n",
      "Train  Accuracy: 70.3%\n",
      "Test   Loss: 0.54934\n",
      "Test   Accuracy: 78.4%\n",
      "Epoch 18\n",
      "Train....\n",
      "Train  Loss: 0.62037\n",
      "Train  Accuracy: 70.1%\n",
      "Test   Loss: 0.54182\n",
      "Test   Accuracy: 81.7%\n",
      "Epoch 19\n",
      "Train....\n",
      "Train  Loss: 0.62832\n",
      "Train  Accuracy: 68.2%\n",
      "Test   Loss: 0.55429\n",
      "Test   Accuracy: 78.4%\n"
     ]
    }
   ],
   "source": [
    "from braindecode.torch_ext.util import np_to_var, var_to_np\n",
    "import torch.nn.functional as F\n",
    "from numpy.random import RandomState\n",
    "import torch as th\n",
    "from braindecode.experiments.monitors import compute_preds_per_trial_for_set\n",
    "rng = RandomState((2017,6,30))\n",
    "for i_epoch in range(20):\n",
    "    print(\"Epoch {:d}\".format(i_epoch))\n",
    "    print(\"Train....\")\n",
    "    # Set model to training mode\n",
    "    model.train()\n",
    "    for batch_X, batch_y in iterator.get_batches(train_set, shuffle=False):\n",
    "        net_in = np_to_var(batch_X)\n",
    "        if cuda:\n",
    "            net_in = net_in.cuda()\n",
    "        net_target = np_to_var(batch_y)\n",
    "        if cuda:\n",
    "            net_target = net_target.cuda()\n",
    "        # Remove gradients of last backward pass from all parameters \n",
    "        optimizer.zero_grad()\n",
    "        outputs = model(net_in)\n",
    "        # Mean predictions across trial\n",
    "        # Note that this will give identical gradients to computing\n",
    "        # a per-prediction loss (at least for the combination of log softmax activation \n",
    "        # and negative log likelihood loss which we are using here)\n",
    "        outputs = th.mean(outputs, dim=2, keepdim=False)\n",
    "        loss = F.nll_loss(outputs, net_target)\n",
    "        loss.backward()\n",
    "        optimizer.step()\n",
    "    \n",
    "    # Print some statistics each epoch\n",
    "    model.eval()\n",
    "    for setname, dataset in (('Train', train_set),('Test', test_set)):\n",
    "        # Collect all predictions and losses\n",
    "        all_preds = []\n",
    "        all_losses = []\n",
    "        batch_sizes = []\n",
    "        for batch_X, batch_y in iterator.get_batches(dataset, shuffle=False):\n",
    "            net_in = np_to_var(batch_X)\n",
    "            if cuda:\n",
    "                net_in = net_in.cuda()\n",
    "            net_target = np_to_var(batch_y)\n",
    "            if cuda:\n",
    "                net_target = net_target.cuda()\n",
    "            outputs = model(net_in)\n",
    "            all_preds.append(var_to_np(outputs))\n",
    "            outputs = th.mean(outputs, dim=2, keepdim=False)\n",
    "            loss = F.nll_loss(outputs, net_target)\n",
    "            loss = float(var_to_np(loss))\n",
    "            all_losses.append(loss)\n",
    "            batch_sizes.append(len(batch_X))\n",
    "        # Compute mean per-input loss \n",
    "        loss = np.mean(np.array(all_losses) * np.array(batch_sizes) /\n",
    "                       np.mean(batch_sizes))\n",
    "        print(\"{:6s} Loss: {:.5f}\".format(setname, loss))\n",
    "        preds_per_trial = compute_preds_per_trial_for_set(all_preds,\n",
    "                                                          input_time_length,\n",
    "                                                          dataset)\n",
    "        # preds per trial are now trials x classes x timesteps/predictions\n",
    "        # Now mean across timesteps for each trial to get per-trial predictions\n",
    "        meaned_preds_per_trial = np.array([np.mean(p, axis=1) for p in preds_per_trial])\n",
    "        predicted_labels = np.argmax(meaned_preds_per_trial, axis=1)\n",
    "        accuracy = np.mean(predicted_labels == dataset.y)\n",
    "        print(\"{:6s} Accuracy: {:.1f}%\".format(\n",
    "            setname, accuracy * 100))\n"
   ]
  },
  {
   "cell_type": "markdown",
   "metadata": {},
   "source": [
    "## Compute correlation: amplitude perturbation - prediction change"
   ]
  },
  {
   "cell_type": "markdown",
   "metadata": {},
   "source": [
    "First collect all batches and concatenate them into one array of examples:"
   ]
  },
  {
   "cell_type": "code",
   "execution_count": 5,
   "metadata": {
    "collapsed": true
   },
   "outputs": [],
   "source": [
    "train_batches = list(iterator.get_batches(train_set, shuffle=False))\n",
    "train_X_batches = np.concatenate(list(zip(*train_batches))[0])"
   ]
  },
  {
   "cell_type": "markdown",
   "metadata": {},
   "source": [
    "Next, create a prediction function that wraps the model prediction function and returns the predictions as numpy arrays. We use the predition before the softmax, so we create a new module with all the layers of the old until before the softmax."
   ]
  },
  {
   "cell_type": "code",
   "execution_count": 6,
   "metadata": {
    "collapsed": true
   },
   "outputs": [],
   "source": [
    "from torch import nn\n",
    "new_model = nn.Sequential()\n",
    "for name, module in model.named_children():\n",
    "    if name == 'softmax': break\n",
    "    new_model.add_module(name, module)\n",
    "\n",
    "new_model.eval();\n",
    "pred_fn = lambda x: var_to_np(th.mean(new_model(np_to_var(x).cuda())[:,:,:,0], dim=2, keepdim=False))"
   ]
  },
  {
   "cell_type": "markdown",
   "metadata": {},
   "source": [
    "Setup logging and compute the correlations between amplitude perturbations and prediction changes."
   ]
  },
  {
   "cell_type": "code",
   "execution_count": 7,
   "metadata": {},
   "outputs": [
    {
     "name": "stdout",
     "output_type": "stream",
     "text": [
      "2017-10-18 15:27:22,200 INFO : Compute original predictions...\n",
      "2017-10-18 15:27:32,917 INFO : Iteration 0...\n",
      "2017-10-18 15:27:32,919 INFO : Sample perturbation...\n",
      "2017-10-18 15:27:37,219 INFO : Compute new amplitudes...\n",
      "2017-10-18 15:27:37,757 INFO : Compute new complex inputs...\n",
      "2017-10-18 15:27:49,493 INFO : Compute new real inputs...\n",
      "2017-10-18 15:27:52,005 INFO : Compute new predictions...\n",
      "2017-10-18 15:27:53,317 INFO : Compute correlation...\n",
      "2017-10-18 15:27:53,942 INFO : Iteration 1...\n",
      "2017-10-18 15:27:53,944 INFO : Sample perturbation...\n",
      "2017-10-18 15:27:58,321 INFO : Compute new amplitudes...\n",
      "2017-10-18 15:27:58,877 INFO : Compute new complex inputs...\n",
      "2017-10-18 15:28:10,613 INFO : Compute new real inputs...\n",
      "2017-10-18 15:28:13,106 INFO : Compute new predictions...\n",
      "2017-10-18 15:28:14,385 INFO : Compute correlation...\n",
      "2017-10-18 15:28:14,921 INFO : Iteration 2...\n",
      "2017-10-18 15:28:14,922 INFO : Sample perturbation...\n",
      "2017-10-18 15:28:17,722 INFO : Compute new amplitudes...\n",
      "2017-10-18 15:28:18,261 INFO : Compute new complex inputs...\n",
      "2017-10-18 15:28:22,582 INFO : Compute new real inputs...\n",
      "2017-10-18 15:28:25,074 INFO : Compute new predictions...\n",
      "2017-10-18 15:28:26,355 INFO : Compute correlation...\n",
      "2017-10-18 15:28:26,893 INFO : Iteration 3...\n",
      "2017-10-18 15:28:26,894 INFO : Sample perturbation...\n",
      "2017-10-18 15:28:29,675 INFO : Compute new amplitudes...\n",
      "2017-10-18 15:28:30,217 INFO : Compute new complex inputs...\n",
      "2017-10-18 15:28:34,539 INFO : Compute new real inputs...\n",
      "2017-10-18 15:28:37,027 INFO : Compute new predictions...\n",
      "2017-10-18 15:28:38,320 INFO : Compute correlation...\n",
      "2017-10-18 15:28:38,862 INFO : Iteration 4...\n",
      "2017-10-18 15:28:38,863 INFO : Sample perturbation...\n",
      "2017-10-18 15:28:41,646 INFO : Compute new amplitudes...\n",
      "2017-10-18 15:28:42,186 INFO : Compute new complex inputs...\n",
      "2017-10-18 15:28:46,499 INFO : Compute new real inputs...\n",
      "2017-10-18 15:28:49,000 INFO : Compute new predictions...\n",
      "2017-10-18 15:28:50,275 INFO : Compute correlation...\n",
      "2017-10-18 15:28:50,813 INFO : Iteration 5...\n",
      "2017-10-18 15:28:50,814 INFO : Sample perturbation...\n",
      "2017-10-18 15:28:53,600 INFO : Compute new amplitudes...\n",
      "2017-10-18 15:28:54,139 INFO : Compute new complex inputs...\n",
      "2017-10-18 15:28:58,452 INFO : Compute new real inputs...\n",
      "2017-10-18 15:29:00,953 INFO : Compute new predictions...\n",
      "2017-10-18 15:29:02,227 INFO : Compute correlation...\n",
      "2017-10-18 15:29:02,755 INFO : Iteration 6...\n",
      "2017-10-18 15:29:02,756 INFO : Sample perturbation...\n",
      "2017-10-18 15:29:05,538 INFO : Compute new amplitudes...\n",
      "2017-10-18 15:29:06,080 INFO : Compute new complex inputs...\n",
      "2017-10-18 15:29:10,393 INFO : Compute new real inputs...\n",
      "2017-10-18 15:29:12,917 INFO : Compute new predictions...\n",
      "2017-10-18 15:29:14,190 INFO : Compute correlation...\n",
      "2017-10-18 15:29:14,733 INFO : Iteration 7...\n",
      "2017-10-18 15:29:14,734 INFO : Sample perturbation...\n",
      "2017-10-18 15:29:17,527 INFO : Compute new amplitudes...\n",
      "2017-10-18 15:29:18,066 INFO : Compute new complex inputs...\n",
      "2017-10-18 15:29:22,380 INFO : Compute new real inputs...\n",
      "2017-10-18 15:29:24,880 INFO : Compute new predictions...\n",
      "2017-10-18 15:29:26,187 INFO : Compute correlation...\n",
      "2017-10-18 15:29:26,716 INFO : Iteration 8...\n",
      "2017-10-18 15:29:26,717 INFO : Sample perturbation...\n",
      "2017-10-18 15:29:29,519 INFO : Compute new amplitudes...\n",
      "2017-10-18 15:29:30,056 INFO : Compute new complex inputs...\n",
      "2017-10-18 15:29:34,370 INFO : Compute new real inputs...\n",
      "2017-10-18 15:29:36,890 INFO : Compute new predictions...\n",
      "2017-10-18 15:29:38,164 INFO : Compute correlation...\n",
      "2017-10-18 15:29:38,693 INFO : Iteration 9...\n",
      "2017-10-18 15:29:38,694 INFO : Sample perturbation...\n",
      "2017-10-18 15:29:41,496 INFO : Compute new amplitudes...\n",
      "2017-10-18 15:29:42,033 INFO : Compute new complex inputs...\n",
      "2017-10-18 15:29:46,344 INFO : Compute new real inputs...\n",
      "2017-10-18 15:29:48,846 INFO : Compute new predictions...\n",
      "2017-10-18 15:29:50,119 INFO : Compute correlation...\n",
      "2017-10-18 15:29:50,669 INFO : Iteration 10...\n",
      "2017-10-18 15:29:50,670 INFO : Sample perturbation...\n",
      "2017-10-18 15:29:53,469 INFO : Compute new amplitudes...\n",
      "2017-10-18 15:29:54,008 INFO : Compute new complex inputs...\n",
      "2017-10-18 15:29:58,321 INFO : Compute new real inputs...\n",
      "2017-10-18 15:30:00,843 INFO : Compute new predictions...\n",
      "2017-10-18 15:30:02,118 INFO : Compute correlation...\n",
      "2017-10-18 15:30:02,648 INFO : Iteration 11...\n",
      "2017-10-18 15:30:02,649 INFO : Sample perturbation...\n",
      "2017-10-18 15:30:05,451 INFO : Compute new amplitudes...\n",
      "2017-10-18 15:30:05,998 INFO : Compute new complex inputs...\n",
      "2017-10-18 15:30:10,301 INFO : Compute new real inputs...\n",
      "2017-10-18 15:30:12,798 INFO : Compute new predictions...\n",
      "2017-10-18 15:30:14,102 INFO : Compute correlation...\n"
     ]
    }
   ],
   "source": [
    "from braindecode.visualization.perturbation import compute_amplitude_prediction_correlations\n",
    "import logging\n",
    "import sys\n",
    "logging.basicConfig(format='%(asctime)s %(levelname)s : %(message)s',\n",
    "                     level=logging.DEBUG, stream=sys.stdout)\n",
    "\n",
    "amp_pred_corrs = compute_amplitude_prediction_correlations(pred_fn, train_X_batches, n_iterations=12,\n",
    "                                         batch_size=30)"
   ]
  },
  {
   "cell_type": "markdown",
   "metadata": {},
   "source": [
    "## Plot correlations"
   ]
  },
  {
   "cell_type": "markdown",
   "metadata": {},
   "source": [
    "Pick out one frequency range and mean correlations within that frequency range to make a scalp plot.\n",
    "Here we use the alpha frequency range."
   ]
  },
  {
   "cell_type": "code",
   "execution_count": 9,
   "metadata": {
    "collapsed": true
   },
   "outputs": [],
   "source": [
    "\n",
    "fs = epoched.info['sfreq']\n",
    "freqs = np.fft.rfftfreq(train_X_batches.shape[2], d=1.0/fs)\n",
    "start_freq = 7\n",
    "stop_freq = 14\n",
    "\n",
    "i_start = np.searchsorted(freqs,start_freq)\n",
    "i_stop = np.searchsorted(freqs, stop_freq) + 1\n",
    "\n",
    "freq_corr = np.mean(mean_corr[:,i_start:i_stop], axis=1)"
   ]
  },
  {
   "cell_type": "markdown",
   "metadata": {},
   "source": [
    "Now get approximate positions of the channels in the 10-20 system."
   ]
  },
  {
   "cell_type": "code",
   "execution_count": 10,
   "metadata": {
    "collapsed": true
   },
   "outputs": [],
   "source": [
    "from braindecode.datasets.sensor_positions import get_channelpos, CHANNEL_10_20_APPROX\n",
    "\n",
    "ch_names = [s.strip('.') for s in epoched.ch_names]\n",
    "positions = [get_channelpos(name, CHANNEL_10_20_APPROX) for name in ch_names]\n",
    "positions = np.array(positions)"
   ]
  },
  {
   "cell_type": "markdown",
   "metadata": {},
   "source": [
    "### Plot with MNE"
   ]
  },
  {
   "cell_type": "code",
   "execution_count": 11,
   "metadata": {
    "collapsed": true
   },
   "outputs": [],
   "source": [
    "import matplotlib.pyplot as plt\n",
    "from matplotlib import cm\n",
    "%matplotlib inline\n",
    "max_abs_val = np.max(np.abs(freq_corr))"
   ]
  },
  {
   "cell_type": "code",
   "execution_count": 12,
   "metadata": {},
   "outputs": [
    {
     "data": {
      "image/png": "[encoded data removed]",
      "text/plain": [
       "<matplotlib.figure.Figure at 0x7fcd564bcba8>"
      ]
     },
     "metadata": {},
     "output_type": "display_data"
    }
   ],
   "source": [
    "fig, axes = plt.subplots(1, 2)\n",
    "class_names = ['Left Hand', 'Right Hand']\n",
    "for i_class in range(2):\n",
    "    ax = axes[i_class]\n",
    "    mne.viz.plot_topomap(freq_corr[:,i_class], positions,\n",
    "                     vmin=-max_abs_val, vmax=max_abs_val, contours=0,\n",
    "                    cmap=cm.coolwarm, axes=ax, show=False);\n",
    "    ax.set_title(class_names[i_class])"
   ]
  },
  {
   "cell_type": "markdown",
   "metadata": {},
   "source": [
    "### Plot with Braindecode"
   ]
  },
  {
   "cell_type": "code",
   "execution_count": 13,
   "metadata": {},
   "outputs": [
    {
     "data": {
      "image/png": "[encoded data removed]",
      "text/plain": [
       "<matplotlib.figure.Figure at 0x7fcd564bcb00>"
      ]
     },
     "metadata": {},
     "output_type": "display_data"
    }
   ],
   "source": [
    "from braindecode.visualization.plot import ax_scalp\n",
    "\n",
    "fig, axes = plt.subplots(1, 2)\n",
    "class_names = ['Left Hand', 'Right Hand']\n",
    "for i_class in range(2):\n",
    "    ax = axes[i_class]\n",
    "    ax_scalp(freq_corr[:,i_class], ch_names, chan_pos_list=CHANNEL_10_20_APPROX, cmap=cm.coolwarm,\n",
    "            vmin=-max_abs_val, vmax=max_abs_val, ax=ax)\n",
    "    ax.set_title(class_names[i_class])"
   ]
  },
  {
   "cell_type": "markdown",
   "metadata": {},
   "source": [
    "From these plots we can see the ConvNet clearly learned to use the lateralized response in the alpha band. Note that the positive correlations for the left hand on the left side do not imply an increase of alpha activity for the left hand in the data, see  [Deep learning with convolutional neural networks for EEG decoding and visualization](https://arxiv.org/abs/1703.05051) Result 12 for some notes on interpretability."
   ]
  },
  {
   "cell_type": "markdown",
   "metadata": {},
   "source": [
    "## Dataset References\n"
   ]
  },
  {
   "cell_type": "markdown",
   "metadata": {},
   "source": [
    " This dataset was created and contributed to PhysioNet by the developers of the [BCI2000](http://www.schalklab.org/research/bci2000) instrumentation system, which they used in making these recordings. The system is described in:\n",
    " \n",
    "     Schalk, G., McFarland, D.J., Hinterberger, T., Birbaumer, N., Wolpaw, J.R. (2004) BCI2000: A General-Purpose Brain-Computer Interface (BCI) System. IEEE TBME 51(6):1034-1043.\n",
    "\n",
    "[PhysioBank](https://physionet.org/physiobank/) is a large and growing archive of well-characterized digital recordings of physiologic signals and related data for use by the biomedical research community and further described in:\n",
    "\n",
    "    Goldberger AL, Amaral LAN, Glass L, Hausdorff JM, Ivanov PCh, Mark RG, Mietus JE, Moody GB, Peng C-K, Stanley HE. (2000) PhysioBank, PhysioToolkit, and PhysioNet: Components of a New Research Resource for Complex Physiologic Signals. Circulation 101(23):e215-e220."
   ]
  }
 ],
 "metadata": {
  "celltoolbar": "Edit Metadata",
  "git": {
   "keep_outputs": true
  },
  "kernelspec": {
   "display_name": "Python 2",
   "language": "python",
   "name": "python2"
  },
  "language_info": {
   "codemirror_mode": {
    "name": "ipython",
    "version": 2
   },
   "file_extension": ".py",
   "mimetype": "text/x-python",
   "name": "python",
   "nbconvert_exporter": "python",
   "pygments_lexer": "ipython2",
   "version": "2.7.13"
  }
 },
 "nbformat": 4,
 "nbformat_minor": 2
}
